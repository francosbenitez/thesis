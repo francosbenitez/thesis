{
 "cells": [
  {
   "cell_type": "code",
   "execution_count": null,
   "id": "3a8c2801",
   "metadata": {},
   "outputs": [],
   "source": [
    "import gspread\n",
    "from oauth2client.service_account import ServiceAccountCredentials"
   ]
  },
  {
   "cell_type": "code",
   "execution_count": null,
   "id": "819ec557",
   "metadata": {},
   "outputs": [],
   "source": [
    "scope = [\"https://spreadsheets.google.com/feeds\", 'https://www.googleapis.com/auth/spreadsheets', \"https://www.googleapis.com/auth/drive.file\",\"https://www.googleapis.com/auth/drive\"]\n",
    "creds = ServiceAccountCredentials.from_json_keyfile_name(\"credentials.json\", scope)\n",
    "client = gspread.authorize(creds)"
   ]
  },
  {
   "cell_type": "code",
   "execution_count": null,
   "id": "6df832d9",
   "metadata": {},
   "outputs": [],
   "source": [
    "spreadsheet = client.open(\"Jornada de Psicología Aplicada (respuestas)\").worksheet(\"Respuestas de formulario 1\")\n",
    "#request_data = spreadsheet.get_all_records()\n",
    "#request_data = spreadsheet.get_all_values()\n",
    "request_data = spreadsheet.col_values(3)\n",
    "print(request_data)"
   ]
  }
 ],
 "metadata": {
  "kernelspec": {
   "display_name": "Python 3 (ipykernel)",
   "language": "python",
   "name": "python3"
  },
  "language_info": {
   "codemirror_mode": {
    "name": "ipython",
    "version": 3
   },
   "file_extension": ".py",
   "mimetype": "text/x-python",
   "name": "python",
   "nbconvert_exporter": "python",
   "pygments_lexer": "ipython3",
   "version": "3.8.8"
  }
 },
 "nbformat": 4,
 "nbformat_minor": 5
}
